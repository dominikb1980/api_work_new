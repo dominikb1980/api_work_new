{
 "cells": [
  {
   "cell_type": "code",
   "execution_count": 1,
   "metadata": {},
   "outputs": [],
   "source": [
    "from dotenv import load_dotenv\n",
    "load_dotenv()\n",
    "import os\n",
    "\n",
    "API_KEY = os.getenv(\"DARKSKY_API_KEY\")"
   ]
  },
  {
   "cell_type": "code",
   "execution_count": 2,
   "metadata": {},
   "outputs": [
    {
     "name": "stdout",
     "output_type": "stream",
     "text": [
      "Requirement already satisfied: python-dotenv in c:\\users\\dominik balmer\\appdata\\local\\programs\\python\\python37\\lib\\site-packages (0.10.3)\n"
     ]
    },
    {
     "name": "stderr",
     "output_type": "stream",
     "text": [
      "You are using pip version 19.0.3, however version 19.1.1 is available.\n",
      "You should consider upgrading via the 'python -m pip install --upgrade pip' command.\n"
     ]
    }
   ],
   "source": [
    "!pip install python-dotenv"
   ]
  },
  {
   "cell_type": "code",
   "execution_count": 3,
   "metadata": {},
   "outputs": [],
   "source": [
    "import requests\n",
    "API_KEY = '350a0ebe6937a8aded3d66dd82861b6a'\n",
    "# Variable API machen, then {} für import "
   ]
  },
  {
   "cell_type": "code",
   "execution_count": null,
   "metadata": {},
   "outputs": [],
   "source": [
    "# response.text"
   ]
  },
  {
   "cell_type": "code",
   "execution_count": 11,
   "metadata": {},
   "outputs": [],
   "source": [
    "!touch .super_secret_file"
   ]
  },
  {
   "cell_type": "code",
   "execution_count": 4,
   "metadata": {},
   "outputs": [],
   "source": [
    "# Using the URL on darksky.net/dev/account\n",
    "# and this notebook \n",
    "# print out the current tempreature "
   ]
  },
  {
   "cell_type": "code",
   "execution_count": 5,
   "metadata": {},
   "outputs": [
    {
     "name": "stdout",
     "output_type": "stream",
     "text": [
      "57.92\n"
     ]
    }
   ],
   "source": [
    "response = requests.get(f'https://api.darksky.net/forecast/{API_KEY}/37.8267,-122.4233')\n",
    "weather = response.json()\n",
    "\n",
    "print(weather['currently']['temperature'])"
   ]
  },
  {
   "cell_type": "code",
   "execution_count": 6,
   "metadata": {},
   "outputs": [
    {
     "data": {
      "text/plain": [
       "dict_keys(['latitude', 'longitude', 'timezone', 'currently', 'minutely', 'hourly', 'daily', 'flags', 'offset'])"
      ]
     },
     "execution_count": 6,
     "metadata": {},
     "output_type": "execute_result"
    }
   ],
   "source": [
    "weather.keys()"
   ]
  },
  {
   "cell_type": "code",
   "execution_count": 7,
   "metadata": {},
   "outputs": [
    {
     "name": "stdout",
     "output_type": "stream",
     "text": [
      "{'summary': 'Partly cloudy for the hour.', 'icon': 'partly-cloudy-day', 'data': [{'time': 1559839080, 'precipIntensity': 0, 'precipProbability': 0}, {'time': 1559839140, 'precipIntensity': 0, 'precipProbability': 0}, {'time': 1559839200, 'precipIntensity': 0, 'precipProbability': 0}, {'time': 1559839260, 'precipIntensity': 0, 'precipProbability': 0}, {'time': 1559839320, 'precipIntensity': 0, 'precipProbability': 0}, {'time': 1559839380, 'precipIntensity': 0, 'precipProbability': 0}, {'time': 1559839440, 'precipIntensity': 0, 'precipProbability': 0}, {'time': 1559839500, 'precipIntensity': 0, 'precipProbability': 0}, {'time': 1559839560, 'precipIntensity': 0, 'precipProbability': 0}, {'time': 1559839620, 'precipIntensity': 0, 'precipProbability': 0}, {'time': 1559839680, 'precipIntensity': 0, 'precipProbability': 0}, {'time': 1559839740, 'precipIntensity': 0, 'precipProbability': 0}, {'time': 1559839800, 'precipIntensity': 0, 'precipProbability': 0}, {'time': 1559839860, 'precipIntensity': 0, 'precipProbability': 0}, {'time': 1559839920, 'precipIntensity': 0, 'precipProbability': 0}, {'time': 1559839980, 'precipIntensity': 0, 'precipProbability': 0}, {'time': 1559840040, 'precipIntensity': 0, 'precipProbability': 0}, {'time': 1559840100, 'precipIntensity': 0, 'precipProbability': 0}, {'time': 1559840160, 'precipIntensity': 0, 'precipProbability': 0}, {'time': 1559840220, 'precipIntensity': 0, 'precipProbability': 0}, {'time': 1559840280, 'precipIntensity': 0, 'precipProbability': 0}, {'time': 1559840340, 'precipIntensity': 0, 'precipProbability': 0}, {'time': 1559840400, 'precipIntensity': 0, 'precipProbability': 0}, {'time': 1559840460, 'precipIntensity': 0, 'precipProbability': 0}, {'time': 1559840520, 'precipIntensity': 0, 'precipProbability': 0}, {'time': 1559840580, 'precipIntensity': 0, 'precipProbability': 0}, {'time': 1559840640, 'precipIntensity': 0, 'precipProbability': 0}, {'time': 1559840700, 'precipIntensity': 0, 'precipProbability': 0}, {'time': 1559840760, 'precipIntensity': 0, 'precipProbability': 0}, {'time': 1559840820, 'precipIntensity': 0, 'precipProbability': 0}, {'time': 1559840880, 'precipIntensity': 0, 'precipProbability': 0}, {'time': 1559840940, 'precipIntensity': 0, 'precipProbability': 0}, {'time': 1559841000, 'precipIntensity': 0, 'precipProbability': 0}, {'time': 1559841060, 'precipIntensity': 0, 'precipProbability': 0}, {'time': 1559841120, 'precipIntensity': 0, 'precipProbability': 0}, {'time': 1559841180, 'precipIntensity': 0, 'precipProbability': 0}, {'time': 1559841240, 'precipIntensity': 0, 'precipProbability': 0}, {'time': 1559841300, 'precipIntensity': 0, 'precipProbability': 0}, {'time': 1559841360, 'precipIntensity': 0, 'precipProbability': 0}, {'time': 1559841420, 'precipIntensity': 0, 'precipProbability': 0}, {'time': 1559841480, 'precipIntensity': 0, 'precipProbability': 0}, {'time': 1559841540, 'precipIntensity': 0, 'precipProbability': 0}, {'time': 1559841600, 'precipIntensity': 0, 'precipProbability': 0}, {'time': 1559841660, 'precipIntensity': 0, 'precipProbability': 0}, {'time': 1559841720, 'precipIntensity': 0, 'precipProbability': 0}, {'time': 1559841780, 'precipIntensity': 0, 'precipProbability': 0}, {'time': 1559841840, 'precipIntensity': 0, 'precipProbability': 0}, {'time': 1559841900, 'precipIntensity': 0, 'precipProbability': 0}, {'time': 1559841960, 'precipIntensity': 0, 'precipProbability': 0}, {'time': 1559842020, 'precipIntensity': 0, 'precipProbability': 0}, {'time': 1559842080, 'precipIntensity': 0, 'precipProbability': 0}, {'time': 1559842140, 'precipIntensity': 0, 'precipProbability': 0}, {'time': 1559842200, 'precipIntensity': 0, 'precipProbability': 0}, {'time': 1559842260, 'precipIntensity': 0, 'precipProbability': 0}, {'time': 1559842320, 'precipIntensity': 0, 'precipProbability': 0}, {'time': 1559842380, 'precipIntensity': 0, 'precipProbability': 0}, {'time': 1559842440, 'precipIntensity': 0, 'precipProbability': 0}, {'time': 1559842500, 'precipIntensity': 0, 'precipProbability': 0}, {'time': 1559842560, 'precipIntensity': 0, 'precipProbability': 0}, {'time': 1559842620, 'precipIntensity': 0, 'precipProbability': 0}, {'time': 1559842680, 'precipIntensity': 0, 'precipProbability': 0}]}\n"
     ]
    }
   ],
   "source": [
    "print(weather['minutely'])"
   ]
  },
  {
   "cell_type": "code",
   "execution_count": 8,
   "metadata": {},
   "outputs": [
    {
     "name": "stdout",
     "output_type": "stream",
     "text": [
      "57.92\n"
     ]
    }
   ],
   "source": [
    "print(weather['currently']['temperature'])"
   ]
  },
  {
   "cell_type": "code",
   "execution_count": 9,
   "metadata": {},
   "outputs": [],
   "source": [
    "# API key in eine Variable machen "
   ]
  },
  {
   "cell_type": "markdown",
   "metadata": {},
   "source": [
    "### !touch .env"
   ]
  }
 ],
 "metadata": {
  "kernelspec": {
   "display_name": "Python 3",
   "language": "python",
   "name": "python3"
  },
  "language_info": {
   "codemirror_mode": {
    "name": "ipython",
    "version": 3
   },
   "file_extension": ".py",
   "mimetype": "text/x-python",
   "name": "python",
   "nbconvert_exporter": "python",
   "pygments_lexer": "ipython3",
   "version": "3.7.3"
  }
 },
 "nbformat": 4,
 "nbformat_minor": 2
}
